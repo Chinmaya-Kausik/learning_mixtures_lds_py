{
 "cells": [
  {
   "cell_type": "code",
   "execution_count": 1,
   "id": "7035edeb",
   "metadata": {},
   "outputs": [],
   "source": [
    "from subspace_est import subspace_estimation, subspace_estimation_helper\n",
    "import numpy as np\n",
    "import csv\n",
    "import matplotlib.pyplot as plt\n",
    "import scipy.io\n",
    "import scipy.linalg"
   ]
  },
  {
   "cell_type": "code",
   "execution_count": 2,
   "id": "273f9c74",
   "metadata": {},
   "outputs": [],
   "source": [
    "# Initialize d, K, M, T\n",
    "T=20\n",
    "d = 30;\n",
    "K = 4;\n",
    "rho = 0.5;\n",
    "\n",
    "data = scipy.io.loadmat(\"data_LDS.mat\")\n",
    "mat = data['data']"
   ]
  },
  {
   "cell_type": "code",
   "execution_count": 3,
   "id": "d39c4a73",
   "metadata": {},
   "outputs": [],
   "source": [
    "data = mat.squeeze()\n",
    "Msub= 30*d\n",
    "data_subspace = data[:30*d]\n"
   ]
  },
  {
   "cell_type": "code",
   "execution_count": 4,
   "id": "63013b8e",
   "metadata": {},
   "outputs": [
    {
     "name": "stdout",
     "output_type": "stream",
     "text": [
      "(900, 30, 21)\n",
      "[  757.82414815   858.23719096  1061.60361686 18944.32465636]\n",
      "[  763.44360229   875.94063099   984.39289673 19827.91829233]\n",
      "[  648.04649104   682.25029875   779.13554436 15912.56511288]\n",
      "[  786.09989898   886.00500927  1015.84807741 19794.33058705]\n",
      "[  642.31945941   674.95016009   720.34423827 16890.10886983]\n",
      "[  703.17650735   794.12844343   844.97302453 16359.43985709]\n",
      "[  692.52031278   877.98491321   991.81127709 18026.12135861]\n",
      "[  816.41526562   982.82661697  1261.95207525 22353.74984116]\n",
      "[  647.20080699   717.11984993   992.67323032 17285.40598557]\n",
      "[  664.17333319   798.68619131  1044.47876054 17166.96970842]\n",
      "[  675.02567201   868.79059136   967.10966759 17707.48460022]\n",
      "[  765.02845107   826.330084    1011.41065427 17163.67909486]\n",
      "[  543.14534433   736.13080211   826.1332654  16017.52562525]\n",
      "[  661.24539867   783.17365425   891.22058098 16929.9882004 ]\n",
      "[  743.68762827   783.92472791   881.05851905 17480.93490922]\n",
      "[  672.23170075   729.18402521   858.45987232 17772.82665968]\n",
      "[  711.48124771   871.92488855  1023.10711765 18098.62509498]\n",
      "[  776.0937381    790.90697388   829.44229308 16599.39916936]\n",
      "[  634.40346637   745.27150655   962.04241542 17818.5957858 ]\n",
      "[  735.61220696   897.1385546   1037.11805307 18310.48282325]\n",
      "[  711.85668942   824.05218755  1000.39218123 14613.62094737]\n",
      "[  657.02250315   763.10310551  1096.61610957 18112.15256495]\n",
      "[  725.11760824   778.21594256   902.0137565  16473.81417291]\n",
      "[  643.8164302    727.32204704  1000.88392775 17291.19161254]\n",
      "[  720.06139415   819.30937039   829.96866779 17674.58521356]\n",
      "[  697.66111065   828.16596149  1006.33463745 16257.27026189]\n",
      "[  701.38335112   758.82723519   880.28255923 16177.40657593]\n",
      "[  656.36752667   784.0523935   1032.87016391 18248.76907535]\n",
      "[  678.01296267   741.71381025   870.50940977 15161.3489249 ]\n",
      "[  715.5455789    761.59737371   828.57261641 15923.44105946]\n"
     ]
    }
   ],
   "source": [
    "new_data = np.zeros([Msub, d, T+1])\n",
    "for i in range(Msub):\n",
    "    new_data[i, :, :] = np.array(data_subspace[i])\n",
    "print(new_data.shape)\n",
    "V_i, U_i = subspace_estimation(new_data, K)"
   ]
  },
  {
   "cell_type": "code",
   "execution_count": 5,
   "id": "e8afff8c",
   "metadata": {},
   "outputs": [],
   "source": [
    "error_list = []\n",
    "identity = np.eye(d)\n",
    "for i in range(d):\n",
    "    VVT = (V_i[i])@((V_i[i]).T)\n",
    "    error_list.append(scipy.linalg.norm(identity - VVT, ord='fro'))"
   ]
  },
  {
   "cell_type": "code",
   "execution_count": 6,
   "id": "3c8e3e74",
   "metadata": {},
   "outputs": [],
   "source": [
    "for i in range(d):\n",
    "    UUT = (U_i[i])@((U_i[i]).T)\n",
    "    error_list.append(scipy.linalg.norm(identity - UUT, ord='fro'))"
   ]
  },
  {
   "cell_type": "code",
   "execution_count": 8,
   "id": "b1034919",
   "metadata": {},
   "outputs": [
    {
     "data": {
      "text/plain": [
       "(0.9915720004372489, -0.4097394641463258)"
      ]
     },
     "execution_count": 8,
     "metadata": {},
     "output_type": "execute_result"
    }
   ],
   "source": [
    "np.max(V_i[0]), np.min(V_i[0])"
   ]
  },
  {
   "cell_type": "code",
   "execution_count": null,
   "id": "68cd2dbe",
   "metadata": {},
   "outputs": [],
   "source": []
  }
 ],
 "metadata": {
  "kernelspec": {
   "display_name": "Python 3 (ipykernel)",
   "language": "python",
   "name": "python3"
  },
  "language_info": {
   "codemirror_mode": {
    "name": "ipython",
    "version": 3
   },
   "file_extension": ".py",
   "mimetype": "text/x-python",
   "name": "python",
   "nbconvert_exporter": "python",
   "pygments_lexer": "ipython3",
   "version": "3.10.2"
  }
 },
 "nbformat": 4,
 "nbformat_minor": 5
}
