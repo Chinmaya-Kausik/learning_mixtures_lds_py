{
 "cells": [
  {
   "cell_type": "code",
   "execution_count": 62,
   "id": "7035edeb",
   "metadata": {},
   "outputs": [],
   "source": [
    "from subspace_est import subspace_estimation\n",
    "import numpy as np\n",
    "import csv\n",
    "import matplotlib.pyplot as plt\n",
    "import scipy.io\n",
    "import scipy.linalg"
   ]
  },
  {
   "cell_type": "code",
   "execution_count": 63,
   "id": "273f9c74",
   "metadata": {},
   "outputs": [],
   "source": [
    "# Initialize d, K, M, T\n",
    "T=20\n",
    "d = 30;\n",
    "K = 4;\n",
    "rho = 0.5;\n",
    "\n",
    "data = scipy.io.loadmat(\"data_LDS.mat\")\n",
    "mat = data['data']"
   ]
  },
  {
   "cell_type": "code",
   "execution_count": 64,
   "id": "d39c4a73",
   "metadata": {},
   "outputs": [],
   "source": [
    "data = mat.squeeze()\n",
    "Msub= 30*d\n",
    "data_subspace = data[:30*d]\n"
   ]
  },
  {
   "cell_type": "code",
   "execution_count": 65,
   "id": "63013b8e",
   "metadata": {},
   "outputs": [
    {
     "name": "stdout",
     "output_type": "stream",
     "text": [
      "(900, 30, 21)\n"
     ]
    }
   ],
   "source": [
    "new_data = np.zeros([Msub, d, T+1])\n",
    "for i in range(Msub):\n",
    "    new_data[i, :, :] = np.array(data_subspace[i])\n",
    "print(new_data.shape)\n",
    "V_i, U_i = subspace_estimation(new_data, K)"
   ]
  },
  {
   "cell_type": "code",
   "execution_count": 66,
   "id": "e8afff8c",
   "metadata": {},
   "outputs": [],
   "source": [
    "error_list = []\n",
    "identity = np.eye(d)\n",
    "for i in range(d):\n",
    "    VVT = (V_i[i])@((V_i[i]).T)\n",
    "    error_list.append(scipy.linalg.norm(identity - VVT, ord='fro'))"
   ]
  },
  {
   "cell_type": "code",
   "execution_count": 67,
   "id": "3c8e3e74",
   "metadata": {},
   "outputs": [],
   "source": [
    "for i in range(d):\n",
    "    UUT = (U_i[i])@((U_i[i]).T)\n",
    "    error_list.append(scipy.linalg.norm(identity - UUT, ord='fro'))"
   ]
  },
  {
   "cell_type": "code",
   "execution_count": 69,
   "id": "b1034919",
   "metadata": {},
   "outputs": [
    {
     "data": {
      "text/plain": [
       "array([[ 8.59588140e-03, -4.85364643e-02, -4.52312638e-02,\n",
       "         9.89962590e-01],\n",
       "       [ 3.37210723e-01,  2.65921359e-01,  9.04863887e-02,\n",
       "        -2.36579538e-02],\n",
       "       [-1.72658024e-01, -1.57974388e-02, -8.08391986e-02,\n",
       "        -7.86014845e-04],\n",
       "       [-1.06074256e-01,  3.32387206e-01, -2.19749955e-02,\n",
       "        -1.72445200e-02],\n",
       "       [ 3.95882791e-02, -2.11168064e-02,  3.35067533e-02,\n",
       "         2.70367841e-02],\n",
       "       [ 7.71640916e-02,  1.59223901e-01, -1.19067033e-03,\n",
       "         1.98682151e-02],\n",
       "       [ 6.35426801e-02, -2.03223684e-01, -4.37259073e-01,\n",
       "        -4.66227427e-02],\n",
       "       [-2.31544401e-01, -1.12265798e-01, -2.36708460e-01,\n",
       "        -1.57525126e-03],\n",
       "       [-1.69620526e-01,  1.87521053e-01, -1.52555506e-01,\n",
       "         9.64078212e-03],\n",
       "       [ 1.02672627e-01, -2.07465585e-01, -6.72627046e-02,\n",
       "        -2.25256688e-02],\n",
       "       [-1.06374089e-01, -2.01218977e-01,  1.56269050e-01,\n",
       "        -4.44440703e-02],\n",
       "       [ 1.67319239e-01, -2.18060703e-01,  3.43905312e-01,\n",
       "         6.40633660e-03],\n",
       "       [-2.04470816e-01,  9.71289156e-03, -2.49160468e-01,\n",
       "        -4.96136391e-02],\n",
       "       [-1.23531316e-01,  1.18710678e-02, -1.95917551e-01,\n",
       "        -2.72306978e-02],\n",
       "       [-1.37015590e-01, -4.74907443e-03, -2.56133368e-01,\n",
       "        -2.10061951e-02],\n",
       "       [-1.26296646e-01, -3.40464413e-02,  2.52957690e-01,\n",
       "        -2.79827210e-02],\n",
       "       [-1.04759109e-02,  3.20606752e-01,  6.87799633e-02,\n",
       "         4.28650382e-02],\n",
       "       [ 1.10120227e-01, -2.75502014e-02,  2.94106945e-02,\n",
       "         6.29473533e-03],\n",
       "       [-2.76713423e-01,  1.83364830e-02,  1.62796469e-01,\n",
       "        -4.28791113e-03],\n",
       "       [-2.81019630e-01, -2.15451529e-02,  1.06890518e-01,\n",
       "         6.80164967e-02],\n",
       "       [-1.80222087e-01, -4.05246727e-02, -1.85752312e-01,\n",
       "        -1.50993107e-02],\n",
       "       [-1.53318433e-01, -1.21828102e-01,  4.63930831e-02,\n",
       "         3.86254433e-03],\n",
       "       [-4.70537426e-01,  2.67510218e-01,  2.86793768e-01,\n",
       "         1.66598668e-02],\n",
       "       [ 2.74388973e-01, -7.68789467e-02,  6.91248035e-02,\n",
       "         3.08086801e-03],\n",
       "       [-9.98578300e-02, -6.13056410e-02, -2.49517205e-01,\n",
       "         1.30512403e-02],\n",
       "       [ 1.45955073e-01,  3.76266301e-01, -3.01705457e-02,\n",
       "         1.10954947e-02],\n",
       "       [ 4.53924562e-03,  5.86406116e-02,  6.74529651e-02,\n",
       "         6.45559457e-03],\n",
       "       [-1.56300717e-01, -1.69969473e-01,  2.18272335e-01,\n",
       "         4.65745723e-03],\n",
       "       [-1.79950847e-01, -2.01613137e-01,  2.18272447e-01,\n",
       "         9.96525248e-04],\n",
       "       [-3.15742014e-02,  3.90153157e-01, -6.03269630e-02,\n",
       "         3.68928313e-02]])"
      ]
     },
     "execution_count": 69,
     "metadata": {},
     "output_type": "execute_result"
    }
   ],
   "source": [
    "V_i[0]"
   ]
  },
  {
   "cell_type": "code",
   "execution_count": null,
   "id": "c02fe638",
   "metadata": {},
   "outputs": [],
   "source": []
  }
 ],
 "metadata": {
  "kernelspec": {
   "display_name": "Python 3 (ipykernel)",
   "language": "python",
   "name": "python3"
  },
  "language_info": {
   "codemirror_mode": {
    "name": "ipython",
    "version": 3
   },
   "file_extension": ".py",
   "mimetype": "text/x-python",
   "name": "python",
   "nbconvert_exporter": "python",
   "pygments_lexer": "ipython3",
   "version": "3.10.2"
  }
 },
 "nbformat": 4,
 "nbformat_minor": 5
}
