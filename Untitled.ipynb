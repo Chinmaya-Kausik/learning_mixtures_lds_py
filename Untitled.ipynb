{
 "cells": [
  {
   "cell_type": "code",
   "execution_count": 3,
   "id": "3905da6f",
   "metadata": {},
   "outputs": [],
   "source": [
    "from subspace_est import subspace_estimation\n",
    "import numpy as np\n",
    "import csv\n",
    "import matplotlib.pyplot as plt\n",
    "import scipy.io"
   ]
  },
  {
   "cell_type": "code",
   "execution_count": 5,
   "id": "df719c03",
   "metadata": {},
   "outputs": [],
   "source": [
    "\n",
    "\n",
    "\"\"\"Preprocessing\"\"\"\n",
    "\n",
    "# Initialize d, K, M, T\n",
    "T=20\n",
    "d = 30;\n",
    "K = 4;\n",
    "rho = 0.5;\n",
    "\n",
    "data = scipy.io.loadmat(\"data_LDS.mat\")\n",
    "mat = data['data']"
   ]
  },
  {
   "cell_type": "code",
   "execution_count": 25,
   "id": "3be0b360",
   "metadata": {},
   "outputs": [],
   "source": [
    "data = mat.squeeze()\n",
    "Msub= 30*d\n",
    "data_subspace = data[:30*d]\n"
   ]
  },
  {
   "cell_type": "code",
   "execution_count": 29,
   "id": "cea3d921",
   "metadata": {},
   "outputs": [
    {
     "name": "stdout",
     "output_type": "stream",
     "text": [
      "(900, 30, 21)\n"
     ]
    },
    {
     "ename": "ValueError",
     "evalue": "axes don't match array",
     "output_type": "error",
     "traceback": [
      "\u001b[1;31m---------------------------------------------------------------------------\u001b[0m",
      "\u001b[1;31mValueError\u001b[0m                                Traceback (most recent call last)",
      "Cell \u001b[1;32mIn [29], line 5\u001b[0m\n\u001b[0;32m      3\u001b[0m     new_data[i, :, :] \u001b[38;5;241m=\u001b[39m np\u001b[38;5;241m.\u001b[39marray(data_subspace[i])\n\u001b[0;32m      4\u001b[0m \u001b[38;5;28mprint\u001b[39m(new_data\u001b[38;5;241m.\u001b[39mshape)\n\u001b[1;32m----> 5\u001b[0m V_i, U_i \u001b[38;5;241m=\u001b[39m \u001b[43msubspace_estimation\u001b[49m\u001b[43m(\u001b[49m\u001b[43mdata_subspace\u001b[49m\u001b[43m,\u001b[49m\u001b[43m \u001b[49m\u001b[43mK\u001b[49m\u001b[43m)\u001b[49m\n",
      "File \u001b[1;32m~\\Documents\\GitHub\\learning_mixtures_lds_py\\subspace_est.py:59\u001b[0m, in \u001b[0;36msubspace_estimation\u001b[1;34m(data_sub_est, K)\u001b[0m\n\u001b[0;32m     48\u001b[0m \u001b[38;5;28;01mdef\u001b[39;00m \u001b[38;5;21msubspace_estimation\u001b[39m(data_sub_est, K):\n\u001b[0;32m     49\u001b[0m     \u001b[38;5;124;03m\"\"\"\u001b[39;00m\n\u001b[0;32m     50\u001b[0m \u001b[38;5;124;03m    Input: data_sub_est as a (M,T,d) tensor\u001b[39;00m\n\u001b[0;32m     51\u001b[0m \u001b[38;5;124;03m    where M is the number of trajectories\u001b[39;00m\n\u001b[1;32m   (...)\u001b[0m\n\u001b[0;32m     56\u001b[0m \u001b[38;5;124;03m    Returned as 2 (d,d,K) numpy arrays\u001b[39;00m\n\u001b[0;32m     57\u001b[0m \u001b[38;5;124;03m    \"\"\"\u001b[39;00m\n\u001b[1;32m---> 59\u001b[0m     H_i, G_i \u001b[38;5;241m=\u001b[39m \u001b[43msubspace_estimation_helper\u001b[49m\u001b[43m(\u001b[49m\u001b[43mdata_sub_est\u001b[49m\u001b[43m)\u001b[49m\n\u001b[0;32m     61\u001b[0m     X \u001b[38;5;241m=\u001b[39m np\u001b[38;5;241m.\u001b[39marray(data_sub_est)\u001b[38;5;241m.\u001b[39mtranspose(\u001b[38;5;241m0\u001b[39m,\u001b[38;5;241m2\u001b[39m,\u001b[38;5;241m1\u001b[39m)\n\u001b[0;32m     62\u001b[0m     M,T,d \u001b[38;5;241m=\u001b[39m X\u001b[38;5;241m.\u001b[39mshape\n",
      "File \u001b[1;32m~\\Documents\\GitHub\\learning_mixtures_lds_py\\subspace_est.py:18\u001b[0m, in \u001b[0;36msubspace_estimation_helper\u001b[1;34m(data_sub_est)\u001b[0m\n\u001b[0;32m     16\u001b[0m \u001b[38;5;66;03m# Set up data matrix X and dimensions\u001b[39;00m\n\u001b[0;32m     17\u001b[0m X \u001b[38;5;241m=\u001b[39m np\u001b[38;5;241m.\u001b[39marray(data_sub_est)\n\u001b[1;32m---> 18\u001b[0m X \u001b[38;5;241m=\u001b[39m \u001b[43mX\u001b[49m\u001b[38;5;241;43m.\u001b[39;49m\u001b[43mtranspose\u001b[49m\u001b[43m(\u001b[49m\u001b[38;5;241;43m0\u001b[39;49m\u001b[43m,\u001b[49m\u001b[38;5;241;43m2\u001b[39;49m\u001b[43m,\u001b[49m\u001b[38;5;241;43m1\u001b[39;49m\u001b[43m)\u001b[49m\n\u001b[0;32m     19\u001b[0m M, T, d \u001b[38;5;241m=\u001b[39m X\u001b[38;5;241m.\u001b[39mshape\n\u001b[0;32m     20\u001b[0m N \u001b[38;5;241m=\u001b[39m \u001b[38;5;28mint\u001b[39m(T\u001b[38;5;241m/\u001b[39m\u001b[38;5;241m4\u001b[39m)\n",
      "\u001b[1;31mValueError\u001b[0m: axes don't match array"
     ]
    }
   ],
   "source": [
    "\n",
    "new_data = np.zeros([Msub, d, T+1])\n",
    "for i in range(Msub):\n",
    "    new_data[i, :, :] = np.array(data_subspace[i])\n",
    "print(new_data.shape)\n",
    "V_i, U_i = subspace_estimation(data_subspace, K)"
   ]
  },
  {
   "cell_type": "code",
   "execution_count": null,
   "id": "114f723d",
   "metadata": {},
   "outputs": [],
   "source": []
  }
 ],
 "metadata": {
  "kernelspec": {
   "display_name": "Python 3 (ipykernel)",
   "language": "python",
   "name": "python3"
  },
  "language_info": {
   "codemirror_mode": {
    "name": "ipython",
    "version": 3
   },
   "file_extension": ".py",
   "mimetype": "text/x-python",
   "name": "python",
   "nbconvert_exporter": "python",
   "pygments_lexer": "ipython3",
   "version": "3.10.2"
  }
 },
 "nbformat": 4,
 "nbformat_minor": 5
}
