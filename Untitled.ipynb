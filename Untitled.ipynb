{
 "cells": [
  {
   "cell_type": "code",
   "execution_count": 36,
   "id": "7035edeb",
   "metadata": {},
   "outputs": [],
   "source": [
    "from subspace_est import subspace_estimation\n",
    "import numpy as np\n",
    "import csv\n",
    "import matplotlib.pyplot as plt\n",
    "import scipy.io\n",
    "import scipy.linalg"
   ]
  },
  {
   "cell_type": "code",
   "execution_count": 37,
   "id": "273f9c74",
   "metadata": {},
   "outputs": [],
   "source": [
    "\n",
    "\n",
    "\"\"\"Preprocessing\"\"\"\n",
    "\n",
    "# Initialize d, K, M, T\n",
    "T=20\n",
    "d = 30;\n",
    "K = 4;\n",
    "rho = 0.5;\n",
    "\n",
    "data = scipy.io.loadmat(\"data_LDS.mat\")\n",
    "mat = data['data']"
   ]
  },
  {
   "cell_type": "code",
   "execution_count": 38,
   "id": "d39c4a73",
   "metadata": {},
   "outputs": [],
   "source": [
    "data = mat.squeeze()\n",
    "Msub= 30*d\n",
    "data_subspace = data[:30*d]\n"
   ]
  },
  {
   "cell_type": "code",
   "execution_count": 39,
   "id": "63013b8e",
   "metadata": {},
   "outputs": [
    {
     "name": "stdout",
     "output_type": "stream",
     "text": [
      "(900, 30, 21)\n"
     ]
    }
   ],
   "source": [
    "new_data = np.zeros([Msub, d, T+1])\n",
    "for i in range(Msub):\n",
    "    new_data[i, :, :] = np.array(data_subspace[i])\n",
    "print(new_data.shape)\n",
    "V_i, U_i = subspace_estimation(new_data, K)"
   ]
  },
  {
   "cell_type": "code",
   "execution_count": 46,
   "id": "e8afff8c",
   "metadata": {},
   "outputs": [],
   "source": [
    "error_list = []\n",
    "identity = np.eye(d)\n",
    "for i in range(d):\n",
    "    VVT = (V_i[i])@((V_i[i]).T)\n",
    "    error_list.append(scipy.linalg.norm(identity - VVT, ord='fro'))"
   ]
  },
  {
   "cell_type": "code",
   "execution_count": 47,
   "id": "20644473",
   "metadata": {},
   "outputs": [],
   "source": [
    "for i in range(d):\n",
    "    UUT = (U_i[i])@((U_i[i]).T)\n",
    "    error_list.append(scipy.linalg.norm(identity - UUT, ord='fro'))"
   ]
  },
  {
   "cell_type": "code",
   "execution_count": 54,
   "id": "5e113ca9",
   "metadata": {},
   "outputs": [
    {
     "name": "stdout",
     "output_type": "stream",
     "text": [
      "-0.47053742626978845\n"
     ]
    }
   ],
   "source": [
    "print(np.min(V_i[0]))"
   ]
  },
  {
   "cell_type": "code",
   "execution_count": null,
   "id": "2d8e3124",
   "metadata": {},
   "outputs": [],
   "source": []
  }
 ],
 "metadata": {
  "kernelspec": {
   "display_name": "Python 3 (ipykernel)",
   "language": "python",
   "name": "python3"
  },
  "language_info": {
   "codemirror_mode": {
    "name": "ipython",
    "version": 3
   },
   "file_extension": ".py",
   "mimetype": "text/x-python",
   "name": "python",
   "nbconvert_exporter": "python",
   "pygments_lexer": "ipython3",
   "version": "3.10.2"
  }
 },
 "nbformat": 4,
 "nbformat_minor": 5
}
